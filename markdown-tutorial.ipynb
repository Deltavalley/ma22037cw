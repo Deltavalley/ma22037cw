{
 "cells": [
  {
   "cell_type": "markdown",
   "metadata": {},
   "source": [
    "# Example of how to write maths in Markdown.\n",
    "\n",
    "Note that in the above, the # symbol turns something into a header. You can also use ## or ### for subheaders.\n",
    "\n",
    "To switch to Markdown, use the toggle at the top of the editor in Jupyter where you can select 'Code', 'Markdown' or 'Raw'. Compile you markdown code just like you do with Python code (Shift + Enter)"
   ]
  },
  {
   "cell_type": "markdown",
   "metadata": {},
   "source": [
    "## Entering Maths mode\n",
    "To go into maths mode, use the dollar $ symbol. \n",
    "\n",
    "For example: $\\alpha, \\beta,\\gamma, \\Gamma, \\Omega, \\omega$ or $\\alpha = 2\\beta + \\frac{1}{2}$. \n",
    "\n"
   ]
  },
  {
   "cell_type": "markdown",
   "metadata": {},
   "source": [
    "The double dollar sign lets you go into display maths mode:\n",
    "$$\n",
    "\\alpha = 2\\beta + \\frac{\\pi}{2} + \\int_0^{100} \\cos(10x) dx + \\min_x \\frac{(x-x_0)(x-x_1)}{2}.\n",
    "$$\n"
   ]
  },
  {
   "cell_type": "markdown",
   "metadata": {},
   "source": [
    "There are also different maths fonts:\n",
    "$$\n",
    "\\mathbb{N},\\quad  \\mathrm{N},\\quad  \\mathcal{N}, \\quad \\mathfrak{N}.\n",
    "$$\n",
    "(The \\quad command above is adding a tab space)\n"
   ]
  },
  {
   "cell_type": "markdown",
   "metadata": {},
   "source": [
    "Other useful math symbols:\n",
    "$$\n",
    "2\\in \\mathbb{N},\\quad \\frac{\\pi}{3}\\not \\in \\mathbb{Q}, \\quad \\mathbb{R}\\setminus \\mathbb{N},\n",
    "$$\n",
    "and\n",
    "$$\n",
    " \\exists a \\in A, \\quad \\forall a \\in A\n",
    " $$"
   ]
  },
  {
   "cell_type": "markdown",
   "metadata": {},
   "source": [
    "## Equation environments\n",
    "To write equations, you can also use the 'equation' or 'align' commands: For example\n",
    "\\begin{equation}\n",
    "f = \\frac{g}{h}\n",
    "\\end{equation}\n",
    "or if you want to align a block of equations (note the use of the & sign for alignment and \\\\\\ for newline):\n",
    "\\begin{align}\n",
    "f &= \\frac{g- 2h}{h}\\\\\n",
    "&=\\frac{g}{h} - 2.\n",
    "\\end{align}"
   ]
  },
  {
   "cell_type": "markdown",
   "metadata": {},
   "source": [
    "You can also tag your equations to reference later:\n",
    "\\begin{align}\n",
    "    g &= \\int_a^b f(x)dx \\label{eq1} \\tag{1}\\\\\n",
    "    a &= b + c \\label{eq2}\\tag{2}\n",
    "\\end{align}\n"
   ]
  },
  {
   "cell_type": "markdown",
   "metadata": {},
   "source": [
    "See ([1](#mjx-eqn-eq1)) and ([2](#mjx-eqn-eq2)) from another cell."
   ]
  },
  {
   "cell_type": "markdown",
   "metadata": {},
   "source": [
    "# Saving as pdf\n",
    "\n",
    "'File' $\\rightarrow$ 'Save and Export Notebook as' $\\rightarrow$ 'HTML'\n",
    "\n",
    "Open the downloaded HTML document in your browser and click 'File' $\\rightarrow$ 'Print'. Then select save as PDF (possibly with margins set to minimum).\n",
    "\n",
    "If you installed Jupyter notebook yourself, you might be able to directly save and export to PDF from Jupyter notebook ('Downlaod as' $\\rightarrow$ PDF via html). Unfortunately, this functionality is missing the Noteable server, hence the HTML route."
   ]
  },
  {
   "cell_type": "code",
   "execution_count": null,
   "metadata": {},
   "outputs": [],
   "source": []
  }
 ],
 "metadata": {
  "kernelspec": {
   "display_name": "Python 3 (ipykernel)",
   "language": "python",
   "name": "python3"
  },
  "language_info": {
   "codemirror_mode": {
    "name": "ipython",
    "version": 3
   },
   "file_extension": ".py",
   "mimetype": "text/x-python",
   "name": "python",
   "nbconvert_exporter": "python",
   "pygments_lexer": "ipython3",
   "version": "3.7.16"
  }
 },
 "nbformat": 4,
 "nbformat_minor": 4
}
