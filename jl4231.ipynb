{
 "cells": [
  {
   "cell_type": "markdown",
   "metadata": {},
   "source": [
    "# A1\n",
    "$p_0(x)=1$.  For $n=\\mathbb{N}$,\n",
    "$$\n",
    "p_n(x):=\\frac{1}{\\sin(\\theta)}sin((n+1)\\theta), \\quad \\theta:=\\cos^{-1}(x), \\quad x\\in[-1,1]\n",
    "$$\n",
    "\n",
    "For $n=1$, using that $\\sin(2\\theta)=2\\sin(\\theta)\\cos(\\theta)$ and that $\\cos(\\theta) = \\cos(\\cos^{-1}(x)) = x$,\n",
    "$$\n",
    "\\begin{align*}\n",
    "p_1(x)  &= \\frac{1}{\\sin(\\theta)}\\sin(2\\theta) \\\\\n",
    "        &= \\frac{1}{\\sin(\\theta)} \\cdot 2 \\sin(\\theta)\\cos(\\theta) \\\\\n",
    "        &= \\frac{1}{\\sin(\\theta)} \\cdot 2 \\sin(\\theta) \\cdot x \\\\\n",
    "        &= 2x \\cdot \\frac{\\sin(\\theta)}{\\sin(\\theta)} \\\\\n",
    "        &= 2x\n",
    "\n",
    "\n",
    "\\end{align*}\n",
    "$$\n",
    "\n",
    "For $n \\in \\{2,3,\\dots\\}$\n",
    "$$\n",
    "\\begin{align*}\n",
    "p_n(x)  &= \\frac{1}{\\sin(\\theta)} \\sin\\big((n+1)\\theta\\big) \\\\\n",
    "        &= \\frac{1}{\\sin(\\theta)} \\sin(n\\theta + \\theta) \\\\\n",
    "        &= \\frac{1}{\\sin(\\theta)} \\bigg( \\sin(n\\theta)\\cos(\\theta) + \\cos(n\\theta)\\sin(\\theta)\\bigg) \\\\\n",
    "        &= \\frac{1}{\\sin(\\theta)} \\bigg( x\\sin(n\\theta) + \\cos(n\\theta)\\sin(\\theta)\\bigg) \\\\\n",
    "        &= \\frac{1}{\\sin(\\theta)} \\bigg( x\\sin(n\\theta) + \\frac{1}{2}\\bigg(\\sin\\big((n+1)\\theta\\big) - \\sin\\big((n-1)\\theta\\big)\\bigg)\\bigg) \\\\\n",
    "        &= x\\frac{1}{\\sin(\\theta)}\\sin(n\\theta) + \\frac{1}{2}\\cdot\\frac{1}{\\sin(\\theta)}\\sin\\big((n+1)\\theta\\big)-\\frac{1}{2}\\cdot\\frac{1}{\\sin(\\theta)}\\sin\\big((n-1)\\theta\\big)\\\\\n",
    "        &= xp_{n-1}(x) + \\frac{1}{2}p_n(x) - \\frac{1}{2}p_{n-2}(x) \\\\\n",
    "        \\\\\n",
    "\\Rightarrow p_n(x) &= 2xp_{n-1}(x)-p_{n-2}(x)\n",
    "        \n",
    "\\end{align*}\n",
    "$$\n",
    "\n",
    "To see that $p_n$ is of degree $n$ and $\\{p_0, p_1, \\dots, p_n\\}$ form a basis of $\\mathcal{P}_n$, induct on $n$.  First, notice that $p_0(x)=1$ (degree 0) and $p_1(x)=2x$ (degree 1) are linearly independent and hence $\\{p_0, p_1\\}$ forms a basis of $\\mathcal{P}_1$.\n",
    "\n",
    "Assume the statement holds for $k \\leq K \\in \\mathbb{N}$,\n",
    "\n",
    "Now, $p_{k+1}$ is degree $k+1$ since $p_{k+1}(x) = 2xp_k(x)-p_{k-1}(x)$ and by assumption, $\\deg(p_k)=k$, $\\deg(p_{k-1})=k-1$.\n",
    "\n",
    "For that $\\{p_0, p_1, \\dots, p_{k+1}\\}$ is a basis of $\\mathcal{P}_{k+1}$, use the assumption that $\\{p_0, p_1, \\dots, p_k\\}$ is a basis of $\\mathcal{P}_k$ and hence linearly independent.  Extend $\\{p_0, p_1, \\dots, p_k\\}$ by $p_{k+1}$ which is still linearly independent since $p_{k+1}$ is of higher degree than all elements of the list.  Since $\\{p_0, p_1, \\dots, p_{k+1}\\}$ is a set of $k+2 = \\dim\\mathcal{P}_{k+1}$ elements, it is a basis of $\\mathcal{P}_{k+1}$. $\\square$"
   ]
  },
  {
   "cell_type": "markdown",
   "metadata": {},
   "source": [
    "# B1"
   ]
  },
  {
   "cell_type": "code",
   "execution_count": null,
   "metadata": {},
   "outputs": [],
   "source": [
    "#B1\n",
    "def getquad(n):\n",
    "    \"\"\"Returns a vector of quadrature nodes x and weights w of dimension n\"\"\"\n",
    "    \n",
    "    return x, w"
   ]
  }
 ],
 "metadata": {
  "language_info": {
   "name": "python"
  }
 },
 "nbformat": 4,
 "nbformat_minor": 2
}
