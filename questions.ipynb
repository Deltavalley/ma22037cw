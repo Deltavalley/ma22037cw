{
 "cells": [
  {
   "cell_type": "markdown",
   "id": "35a7d167-7cfe-4ab1-b11a-161b7eac178d",
   "metadata": {},
   "source": [
    "# MA22037 Coursework 2024/25"
   ]
  },
  {
   "cell_type": "markdown",
   "id": "d0394c49",
   "metadata": {},
   "source": [
    "The coursework counts for 25% of the final grade. \n",
    "\n",
    "You are expected to upload your solutions to the submission point on Moodle as a **single document**, containing both the code and the mathematical writeup. Please submit two versions of your report: one as a .pdf file and one as a .ipynb file.\n",
    "\n",
    "**You are expected to type up your solutions. Handwritten solutions are not accepted.**\n",
    "\n",
    "The online session on Friday 28th March will focus on how to type mathematics using markdown in Python notebooks. In addition, you are welcome to email the lecturer (James Foster, jmf68@bath.ac.uk) or come to his office if you would like further advice on typing mathematics.\n",
    "\n",
    "**Due: Wednesday 23rd April at 5pm**\n",
    " \n",
    "The coursework will be graded as follows:\n",
    "\n",
    "- [60%] Content.\n",
    "- [40%] Presentation. \n",
    "\n",
    "Each question in the assignment is equally weighted (although not all questions are of the same length). There are 50 marks in total.\n",
    "\n",
    "All questions in the assignment must be fully typed up. Any handwritten submission risks losing presentation marks."
   ]
  },
  {
   "cell_type": "markdown",
   "id": "018dc8fb",
   "metadata": {},
   "source": [
    "## Quadrature in Python"
   ]
  },
  {
   "cell_type": "markdown",
   "id": "e467ba8f",
   "metadata": {},
   "source": [
    "Python gives us two ways of evaluating integrals. Symbolically, Python can sometimes find exact values, such as for $\\int_{-1}^{1} \\sqrt{1-x^2}\\, dx$:"
   ]
  },
  {
   "cell_type": "code",
   "execution_count": 1,
   "id": "e9b10f04",
   "metadata": {},
   "outputs": [
    {
     "data": {
      "text/latex": [
       "$\\displaystyle \\frac{\\pi}{2}$"
      ],
      "text/plain": [
       "pi/2"
      ]
     },
     "execution_count": 1,
     "metadata": {},
     "output_type": "execute_result"
    }
   ],
   "source": [
    "from sympy import *\n",
    "x = Symbol('x')\n",
    "\n",
    "integrate(sqrt(1-x**2),  (x, -1, 1))"
   ]
  },
  {
   "cell_type": "markdown",
   "id": "70e74112",
   "metadata": {},
   "source": [
    "Sometimes, the result of a symbolic function is returned using special functions, which are difficult to interpret. For example, $\\int_0^{1} x^{-\\frac{1}{2}}\\sqrt{1-x^2}\\, dx$: "
   ]
  },
  {
   "cell_type": "code",
   "execution_count": 2,
   "id": "15eefd47",
   "metadata": {},
   "outputs": [
    {
     "data": {
      "text/latex": [
       "$\\displaystyle \\frac{\\Gamma\\left(\\frac{1}{4}\\right) {{}_{2}F_{1}\\left(\\begin{matrix} - \\frac{1}{2}, \\frac{1}{4} \\\\ \\frac{5}{4} \\end{matrix}\\middle| {1} \\right)}}{2 \\Gamma\\left(\\frac{5}{4}\\right)}$"
      ],
      "text/plain": [
       "gamma(1/4)*hyper((-1/2, 1/4), (5/4,), 1)/(2*gamma(5/4))"
      ]
     },
     "execution_count": 2,
     "metadata": {},
     "output_type": "execute_result"
    }
   ],
   "source": [
    "integrate(sqrt(1-x**2) / sqrt(x),  (x, 0, 1))"
   ]
  },
  {
   "cell_type": "markdown",
   "id": "9a77d27e",
   "metadata": {},
   "source": [
    "Here  $\\Gamma$ and ${}_2F_1$ are special functions which can be evaluated numerically using Python."
   ]
  },
  {
   "cell_type": "code",
   "execution_count": 3,
   "id": "514f2a64",
   "metadata": {},
   "outputs": [
    {
     "data": {
      "text/plain": [
       "1.7480383695280801"
      ]
     },
     "execution_count": 3,
     "metadata": {},
     "output_type": "execute_result"
    }
   ],
   "source": [
    "from scipy.special import gamma, hyp2f1\n",
    "\n",
    "gamma(1/4) * hyp2f1(-1/2, 1/4, 5/4, 1) / (2 * gamma(5/4))"
   ]
  },
  {
   "cell_type": "markdown",
   "id": "fbbed675",
   "metadata": {},
   "source": [
    "Sometimes symbolic computation gives no useful information, such as for $\\int_{-1}^{1} e^x\\sqrt{1-x^2}\\, dx$: "
   ]
  },
  {
   "cell_type": "code",
   "execution_count": 4,
   "id": "65e37a37",
   "metadata": {},
   "outputs": [
    {
     "data": {
      "text/latex": [
       "$\\displaystyle \\int\\limits_{-1}^{1} \\sqrt{- \\left(x - 1\\right) \\left(x + 1\\right)} e^{x}\\, dx$"
      ],
      "text/plain": [
       "Integral(sqrt(-(x - 1)*(x + 1))*exp(x), (x, -1, 1))"
      ]
     },
     "execution_count": 4,
     "metadata": {},
     "output_type": "execute_result"
    }
   ],
   "source": [
    "integrate(exp(x)*sqrt(1-x**2),  (x, -1, 1))"
   ]
  },
  {
   "cell_type": "markdown",
   "id": "0112ed0f",
   "metadata": {},
   "source": [
    "However, Python also allows us to numerically evaluate integrals."
   ]
  },
  {
   "cell_type": "code",
   "execution_count": 5,
   "id": "f3ce4c2c",
   "metadata": {},
   "outputs": [
    {
     "name": "stdout",
     "output_type": "stream",
     "text": [
      "True integral value:\t 1.5707963267948966\n",
      "Approx integral value:\t 1.5707963267948986\n"
     ]
    }
   ],
   "source": [
    "from scipy.integrate import quad\n",
    "import numpy as np \n",
    "    \n",
    "result, error = quad(lambda x : np.sqrt(1-x**2), -1, 1)\n",
    "\n",
    "print('True integral value:\\t', np.pi / 2)\n",
    "print('Approx integral value:\\t', result)"
   ]
  },
  {
   "cell_type": "markdown",
   "id": "3212a15d",
   "metadata": {},
   "source": [
    "In this assignment, we will develop a quadrature method for computing $\\int_{-1}^{1}g(x)\\sqrt{1-x^2}\\,dx$ for a given $g:[-1,1]\\rightarrow\\mathbb{R}$. You can use the ```scipy.integrate``` to compare your results and computer errors for use in Section B."
   ]
  },
  {
   "cell_type": "markdown",
   "id": "6377e514",
   "metadata": {},
   "source": [
    "# Section A: Theory"
   ]
  },
  {
   "cell_type": "markdown",
   "id": "a8214f0f",
   "metadata": {},
   "source": [
    "We are interested in finding quadrature rules\n",
    "\n",
    "$$\n",
    "\\int_{-1}^{1}g(x)\\sqrt{1-x^2}\\,dx \\approx \\sum_{i=1}^n g(x_i)w_i\\,,\n",
    "$$\n",
    "\n",
    "for integrals with a weight function $\\sqrt{1-x^2}$, for a smooth function $g:[-1,1]\\rightarrow\\mathbb{R}$, using weights $w_i$ and nodes $x_i\\in[-1,1]$. To do this, let $p_0(x) := 1$ and, for $n=1,2,\\cdots$,\n",
    "\n",
    "$$\n",
    "p_n(x) := \\frac{1}{\\sin\\theta}\\sin((n+1)\\theta),\\quad \\theta := \\cos^{-1}(x),\\quad x\\in[-1,1].\n",
    "$$\n",
    "\n",
    "Let $\\mathcal{P}_n$ denote the vector space of polynomials up to and including degree $n$."
   ]
  },
  {
   "cell_type": "markdown",
   "id": "ba2148bb",
   "metadata": {},
   "source": [
    "## A1 [5 Marks]"
   ]
  },
  {
   "cell_type": "markdown",
   "id": "c20ae299",
   "metadata": {},
   "source": [
    "Show that $p_1(x) = 2x$. By using a trigonometric identity, show that\n",
    "\n",
    "$$\n",
    "p_n(x) = 2x p_{n-1}(x) - p_{n-2}(x),\\quad n=2,3,\\cdots\n",
    "$$\n",
    "\n",
    "Hence, show that $p_n(x)$ is a polynomial of degree $n$ and that $p_0,\\cdots, p_n$ form a basis for $\\mathcal{P}_n$."
   ]
  },
  {
   "cell_type": "markdown",
   "id": "53486fc7",
   "metadata": {},
   "source": [
    "## A2 [5 Marks]"
   ]
  },
  {
   "cell_type": "markdown",
   "id": "9b392ba6",
   "metadata": {},
   "source": [
    "Let $x_1,\\cdots, x_n$ denote the roots of $p_n(x)$. Show that the matrix\n",
    "\n",
    "\\begin{align*}\n",
    "J_n :=\n",
    "\\begin{pmatrix}\n",
    "p_0(x_1) & p_0(x_2) & \\cdots & p_0(x_n)\\\\\n",
    "p_1(x_1) & p_1(x_2) & \\cdots & p_1(x_n)\\\\\n",
    "p_2(x_1) & p_2(x_2) & \\cdots & p_2(x_n)\\\\\n",
    "\\vdots & \\vdots & \\ddots & \\vdots\\\\\n",
    "p_{n-1}(x_1) & p_{n-1}(x_2) & \\cdots & p_{n-1}(x_n)\n",
    "\\end{pmatrix} \n",
    "\\end{align*}\n",
    "\n",
    "is non-singular. Hence, show that there exist $w_1,\\cdots,w_n$ such that\n",
    "\n",
    "$$\n",
    "\\sum_{i=1}^n p_k(x_i)w_i = \\begin{cases}A, & k = 0\\\\ 0, & k = 1, \\cdots, n-1, \\end{cases}\\quad A := \\int_{-1}^1 \\sqrt{1-x^2}\\, dx.\n",
    "$$\n",
    "\n",
    "Hint: Suppose that there exists a $\\mathbf{c}\\in\\mathbb{R}^n$ such that $\\mathbf{c}^\\top J_n = \\mathbf{0}$."
   ]
  },
  {
   "cell_type": "markdown",
   "id": "f42e6c17",
   "metadata": {},
   "source": [
    "## A3 [5 Marks]"
   ]
  },
  {
   "cell_type": "markdown",
   "id": "b10d0f98",
   "metadata": {},
   "source": [
    "By making a substitution, show that\n",
    "\n",
    "$$\n",
    "\\int_{-1}^1 p_n(x)p_m(x)\\sqrt{1-x^2}\\,dx = 0,\\quad n\\neq m.\n",
    "$$"
   ]
  },
  {
   "cell_type": "markdown",
   "id": "765884ad",
   "metadata": {},
   "source": [
    "## A4 [5 Marks]"
   ]
  },
  {
   "cell_type": "markdown",
   "id": "94248daf",
   "metadata": {},
   "source": [
    "By using the basis $\\{p_0,\\cdots,p_n\\}$ for $\\mathcal{P}_n$ and A3, prove that\n",
    "\n",
    "$$\n",
    "\\int_{-1}^1 p(x)\\sqrt{1-x^2}\\, dx = \\sum_{i=1}^n p(x_i)w_i\\,,\\quad \\forall p\\in\\mathcal{P}_n\\,,\n",
    "$$\n",
    "\n",
    "for the $x_i$ and $w_i$ defined above.\n",
    "\n",
    "Now show that the relationship also holds for $p\\in\\mathcal{P}_{2n-1}$ to show the quadrature rule has degree of precision at least $2n-1$ and hence is a Gaussian quadrature rule.\n",
    "\n",
    "Hint: you may use any standard result about polynomials covered in MA12001 (Algebra 1A)."
   ]
  },
  {
   "cell_type": "markdown",
   "id": "d8b5682b",
   "metadata": {},
   "source": [
    "## A5 [5 Marks]"
   ]
  },
  {
   "cell_type": "markdown",
   "id": "57b98d52",
   "metadata": {},
   "source": [
    "Let $q_0(x) := 1$ and $q_n(x) = 2^n\\det(xI - A_n)$ for $n=1,2,\\cdots,$ where $A_n$ is the $n\\times n$ matrix\n",
    "\n",
    "$$\n",
    "A_n :=\n",
    "\\begin{pmatrix} \n",
    "0 & \\frac{1}{2} & 0 & \\cdots &  &\\\\\n",
    "\\frac{1}{2} & 0 & \\frac{1}{2} & \\ddots & &\\\\\n",
    "0 & \\frac{1}{2} & 0 & \\frac{1}{2} & &\\\\\n",
    "\\vdots & \\ddots & \\frac{1}{2} & \\ddots & \\ddots &\\\\\n",
    " &  &  & \\ddots & 0 &\\frac{1}{2}\\\\\n",
    " &  &  &  & \\frac{1}{2} & 0 \n",
    "\\end{pmatrix}\n",
    "$$\n",
    "\n",
    "(all entries zero, apart from the two main off-diagonals). Show that $q_n = p_n$ for $n = 1, 2,\\cdots$\n",
    "\n",
    "Hence, show that eigenvalues of $A_n$ equal the quadrature nodes $x_i\\,$."
   ]
  },
  {
   "cell_type": "markdown",
   "id": "06c2b963",
   "metadata": {},
   "source": [
    "## A6 [5 Marks]"
   ]
  },
  {
   "cell_type": "markdown",
   "id": "019c8f92",
   "metadata": {},
   "source": [
    "Denote the $i$-th column of $J_n$ (from A2) by\n",
    "\n",
    "$$\n",
    "\\mathbf{v}^i := \\big[\\,p_0(x_i), p_1(x_i), \\cdots, p_{n-1}(x_i)\\,\\big]^\\top,\\quad i = 1, 2, \\cdots, n.\n",
    "$$\n",
    "\n",
    "Show that $\\mathbf{v}^i$ is an eigenvector of $A_n$ corresponding to the eigenvalue $x_i\\,$. Hence, using the fact that eigenvectors of a symmetric matrix are orthogonal, show that the quadrature weights satisfy\n",
    "\n",
    "$$\n",
    "w_i = A\\frac{1}{\\|\\mathbf{v}^i\\|^2}(v_1^i)^2,\\quad A := \\int_{-1}^1 \\sqrt{1-x^2}\\,dx = \\frac{1}{2}\\pi,\n",
    "$$\n",
    "\n",
    "where $v_1^i$ is the first component of the $i$-th eigenvector $\\mathbf{v}^i$."
   ]
  },
  {
   "cell_type": "markdown",
   "id": "6b4bc97a",
   "metadata": {},
   "source": [
    "# Section B: Computing"
   ]
  },
  {
   "cell_type": "markdown",
   "id": "dd4b7e7a",
   "metadata": {},
   "source": [
    "In Section A, we showed that the nodes $x_i$ are the eigenvalues of $A_n$ (see A5) and the corresponding weights are\n",
    "\n",
    "$$\n",
    "w_i = \\frac{\\pi}{2}\\frac{1}{\\|\\mathbf{v}^i\\|^2}(v_1^i)^2,\n",
    "$$\n",
    "\n",
    "where $v_1^i$ is the first component of the eigenvector $\\mathbf{v}^i$ corresponding to $x_i$ (see A6). This is an important way of calculating Gaussian quadrature rules and applies to many different types of integral (e.g. with different weighting functions).\n",
    "\n",
    "The process of finding the relevant eigenvalues and eigenvectors can be done using ```np.linalg.eig```."
   ]
  },
  {
   "cell_type": "markdown",
   "id": "f575253f",
   "metadata": {},
   "source": [
    "Given an $n\\times n$ matrix $A$, Python can find the eigenvectors and eigenvalues with the commands:\n",
    "\n",
    "```python\n",
    "eigenvalues, eigenvectors = np.linalg.eig(A)\n",
    "    \n",
    "print(eigenvalues)        # print the eigenvalues\n",
    "j = 1\n",
    "print(eigenvalues[j])     # print the jth eigenvalue\n",
    "print(eigenvectors[:,j])  # print the jth eigenvector\n",
    "```"
   ]
  },
  {
   "cell_type": "markdown",
   "id": "4177ee12",
   "metadata": {},
   "source": [
    "## B1 [5 Marks]"
   ]
  },
  {
   "cell_type": "markdown",
   "id": "7cfb09fa",
   "metadata": {},
   "source": [
    "Write Python code to compute the quadrature nodes $x_1,\\cdots, x_n$ and weights $w_1,\\cdots, w_n$ for the quadrature rule developed in Section A. Fill in\n",
    "\n",
    "```python\n",
    "def getquad(n):\n",
    "    '''Returns a vector of quadrature nodes x and weights w of dimension n.'''\n",
    "    \n",
    "    return x, w\n",
    "```"
   ]
  },
  {
   "cell_type": "markdown",
   "id": "da154867",
   "metadata": {},
   "source": [
    "## B2 [5 Marks]"
   ]
  },
  {
   "cell_type": "markdown",
   "id": "48a5870c",
   "metadata": {},
   "source": [
    "Write a routine to evaluate the quadrature for a given function $g$. Fill in\n",
    "\n",
    "```python\n",
    "def myquad(g, x, w):\n",
    "    '''Evaluate sum_{i=1,...,n} w_i g(x_i)'''\n",
    "    \n",
    "    assert len(x) == len(w), \"x and w should have the same length\"\n",
    "    \n",
    "    return result\n",
    "```\n",
    "\n",
    "It should run with the call\n",
    "\n",
    "```python\n",
    "myquad((lambda x : x), x, w)\n",
    "```\n",
    "\n",
    "to evaluate $\\int_{-1}^1 x\\sqrt{1-x^2}\\,dx$.\n",
    "\n",
    "Verify the degree of precision is $2n - 1$ for $n = 10$ (using Python)."
   ]
  },
  {
   "cell_type": "markdown",
   "id": "eee3ca06",
   "metadata": {},
   "source": [
    "## B3 [5 Marks]"
   ]
  },
  {
   "cell_type": "markdown",
   "id": "ad4f2edc",
   "metadata": {},
   "source": [
    "Use Python to find reference values for\n",
    "\n",
    "$$\n",
    "\\int_{-1}^{1} g(x)\\sqrt{1-x^2}\\,dx,\n",
    "$$\n",
    "\n",
    "in the case $g_1(x) = \\exp(x)$, $g_2(x) = x\\sin(x)$ and $g_3(x) = \\sqrt{1-x^2}$. Using these values, you can now evaluate the error of quadarture approximations."
   ]
  },
  {
   "cell_type": "markdown",
   "id": "d39e67e0",
   "metadata": {},
   "source": [
    "Thus, using the quadrature method developed in B2, evaluate\n",
    "\n",
    "$$\n",
    "I_i := \\int_{-1}^1 g_i(x)\\sqrt{1-x^2}\\, dx,\\quad \\text{for }i = 1,2,3.\n",
    "$$\n",
    "\n",
    "Using ```matplotlib.pyplot.semilogy```, plot each error $|I_i - Q_n|$ against $n$ for $n = 1, 2, \\cdots, 20$.\n",
    "\n",
    "All three of your lines should be labelled and on the **same plot**."
   ]
  },
  {
   "cell_type": "markdown",
   "id": "824b3f8c",
   "metadata": {},
   "source": [
    "## B4 [5 Marks]"
   ]
  },
  {
   "cell_type": "markdown",
   "id": "c103c6f9",
   "metadata": {},
   "source": [
    "In B3, you computed a sequence of quadarture approximations to the integral \n",
    "\n",
    "$$\n",
    "I_i := \\int_{-1}^{1} g_i(x)\\sqrt{1-x^2}\\,dx.\n",
    "$$\n",
    "\n",
    "Explain why the quadarture approximation for $I_3$ is the slowest to converge.\n",
    "\n",
    "Let $\\{Q_n\\}_{1\\leq n\\leq 20}$ denote the sequence for approximating $I_3$.\n",
    "\n",
    "Using $\\{Q_n\\}$ and a known \"sequence acceleration\" technique, compute a new sequence $\\{A_n\\}$ which shows faster convergence to $I_3$. \n",
    "\n",
    "Demonstrate this acceleration by plotting of the error of $\\{Q_n\\}$ and $\\{A_n\\}$ against $n$. As before, these errors should appear on the **same plot**.\n",
    "\n",
    "**Note:**\n",
    "\n",
    "* \"Sequence acceleration\" is not discussed in the lectures or lecture notes, so you will have to do your own research into this!\n",
    "\n",
    "* Your approximations $Q_n$ do not need to be defined for all $n\\in\\{1,\\cdots,20\\}$."
   ]
  },
  {
   "cell_type": "code",
   "execution_count": null,
   "id": "27ea223f",
   "metadata": {},
   "outputs": [],
   "source": []
  }
 ],
 "metadata": {
  "kernelspec": {
   "display_name": "Python 3 (ipykernel)",
   "language": "python",
   "name": "python3"
  },
  "language_info": {
   "codemirror_mode": {
    "name": "ipython",
    "version": 3
   },
   "file_extension": ".py",
   "mimetype": "text/x-python",
   "name": "python",
   "nbconvert_exporter": "python",
   "pygments_lexer": "ipython3",
   "version": "3.9.13"
  }
 },
 "nbformat": 4,
 "nbformat_minor": 5
}
